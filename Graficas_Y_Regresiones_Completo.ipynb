{
 "cells": [
  {
   "cell_type": "code",
   "execution_count": 1,
   "id": "d7921209",
   "metadata": {},
   "outputs": [],
   "source": [
    "import numpy as np\n",
    "import random\n",
    "import matplotlib.pyplot as plt\n",
    "import pandas as pd\n",
    "from scipy.stats import norm\n",
    "from sklearn.linear_model import LinearRegression\n",
    "from tqdm import tqdm"
   ]
  },
  {
   "cell_type": "markdown",
   "id": "11c2cba0",
   "metadata": {},
   "source": [
    "## Laboratorio 09 - Carga específica (e/m) del electrón (Antiguo)\n",
    "#### Laboratoria de Física Moderna \n",
    "\n",
    "Código hecho por: Sara Valentina Guerrero Espinosa\n",
    "\n",
    "### Traemos los datos desde Excel"
   ]
  },
  {
   "cell_type": "code",
   "execution_count": 2,
   "id": "9b50d395",
   "metadata": {},
   "outputs": [],
   "source": [
    "# Para graficar V vs I^2 para cada n: \n",
    "info_1 = [pd.read_excel('Datos_Lab09.xlsx',sheet_name='n1'),\n",
    "          pd.read_excel('Datos_Lab09.xlsx',sheet_name='n2'), \n",
    "          pd.read_excel('Datos_Lab09.xlsx',sheet_name='n3')]\n",
    "\n",
    "# Para graficar I^2 vs n para cada V:\n",
    "info_2 = []\n",
    "i = 300\n",
    "while i < 601:\n",
    "    info_2.append(pd.read_excel('Datos_Lab09.xlsx',sheet_name=str(i)))\n",
    "    i += 50"
   ]
  },
  {
   "cell_type": "code",
   "execution_count": 3,
   "id": "fb8c9779",
   "metadata": {},
   "outputs": [
    {
     "data": {
      "text/plain": [
       "[     V     I  n2     I^2\n",
       " 0  300  1.11   1  1.2321\n",
       " 1  350  1.21   1  1.4641\n",
       " 2  400  1.28   1  1.6384\n",
       " 3  450  1.38   1  1.9044\n",
       " 4  500  1.46   1  2.1316\n",
       " 5  550  1.50   1  2.2500\n",
       " 6  600  1.61   1  2.5921,\n",
       "      V     I  n2     I^2\n",
       " 0  300  1.97   4  3.8809\n",
       " 1  350  2.15   4  4.6225\n",
       " 2  400  2.31   4  5.3361\n",
       " 3  450  2.45   4  6.0025\n",
       " 4  500  2.57   4  6.6049\n",
       " 5  550  2.70   4  7.2900\n",
       " 6  600  2.80   4  7.8400,\n",
       "      V     I  n2      I^2\n",
       " 0  300  2.74   9   7.5076\n",
       " 1  350  2.98   9   8.8804\n",
       " 2  400  3.23   9  10.4329]"
      ]
     },
     "execution_count": 3,
     "metadata": {},
     "output_type": "execute_result"
    }
   ],
   "source": [
    "info_1"
   ]
  },
  {
   "cell_type": "code",
   "execution_count": 4,
   "id": "2f71a610",
   "metadata": {},
   "outputs": [
    {
     "data": {
      "text/plain": [
       "[     V     I  n2     I^2\n",
       " 0  300  0.00   0  0.0000\n",
       " 1  300  1.11   1  1.2321\n",
       " 2  300  1.97   4  3.8809\n",
       " 3  300  2.74   9  7.5076,\n",
       "      V     I  n2     I^2\n",
       " 0  350  0.00   0  0.0000\n",
       " 1  350  1.21   1  1.4641\n",
       " 2  350  2.15   4  4.6225\n",
       " 3  350  2.98   9  8.8804,\n",
       "      V     I  n2      I^2\n",
       " 0  400  0.00   0   0.0000\n",
       " 1  400  1.28   1   1.6384\n",
       " 2  400  2.31   4   5.3361\n",
       " 3  400  3.23   9  10.4329,\n",
       "      V     I  n2     I^2\n",
       " 0  450  0.00   0  0.0000\n",
       " 1  450  1.38   1  1.9044\n",
       " 2  450  2.45   4  6.0025,\n",
       "      V     I  n2     I^2\n",
       " 0  500  0.00   0  0.0000\n",
       " 1  500  1.46   1  2.1316\n",
       " 2  500  2.57   4  6.6049,\n",
       "      V    I  n2   I^2\n",
       " 0  550  0.0   0  0.00\n",
       " 1  550  1.5   1  2.25\n",
       " 2  550  2.7   4  7.29,\n",
       "      V     I  n2     I^2\n",
       " 0  600  0.00   0  0.0000\n",
       " 1  600  1.61   1  2.5921\n",
       " 2  600  2.80   4  7.8400]"
      ]
     },
     "execution_count": 4,
     "metadata": {},
     "output_type": "execute_result"
    }
   ],
   "source": [
    "info_2"
   ]
  },
  {
   "cell_type": "markdown",
   "id": "ddd34184",
   "metadata": {},
   "source": [
    "### Definimos todo el código encargado de las regresiones lineales:"
   ]
  },
  {
   "cell_type": "code",
   "execution_count": 5,
   "id": "48dd114d",
   "metadata": {},
   "outputs": [],
   "source": [
    "# Regresión lineal \n",
    "def Get_LinRegr(x, y):\n",
    "    x = x.reshape((-1,1)) \n",
    "    regr = LinearRegression()\n",
    "    regr.fit(x,y)\n",
    "\n",
    "    b, m = regr.intercept_, regr.coef_\n",
    "    \n",
    "    return m[0], b\n",
    "\n",
    "\n",
    "# Bootstraping\n",
    "def GetParametres(x, y, data):\n",
    "     \n",
    "    # Tomamos una muestra aleatoria\n",
    "    muestra = random.choices(data, k=7)    \n",
    "    \n",
    "    # Separamos la información de la muestra\n",
    "    x_m, y_m = [], []\n",
    "    \n",
    "    for i in range(len(muestra)):\n",
    "        x_m.append(muestra[i][0])\n",
    "        y_m.append(muestra[i][1])\n",
    "    \n",
    "    # Hallamos los parámetros\n",
    "    m, b = Get_LinRegr(np.array(x_m), np.array(y_m))\n",
    "    \n",
    "    return m, b\n",
    "\n",
    "def GetSample(x, y, data):\n",
    "    m_ = []\n",
    "    b_ = []\n",
    "    \n",
    "    for i in range(1000):\n",
    "        m, b = GetParametres(x, y, data)\n",
    "        m_.append(m)\n",
    "        b_.append(b)\n",
    "        \n",
    "    return m_, b_\n",
    "\n",
    "\n",
    "# Definimos la función de error para las incertidumbres:\n",
    "def error(x, y, data):\n",
    "    \n",
    "    m_ , b_ = GetSample(x, y, data)\n",
    "    \n",
    "    # Para m:\n",
    "    mu_m, sigma_m = norm.fit( m_ )\n",
    "    \n",
    "    # Para b:\n",
    "    mu_b, sigma_b = norm.fit( b_ )\n",
    "    \n",
    "    return mu_m, sigma_m, mu_b, sigma_b\n",
    "\n",
    "def GetAll(X, Y):\n",
    "\n",
    "    # Juntamos la información agrupando cada x con su y\n",
    "    data = []\n",
    "\n",
    "    for i in range(len(X)):\n",
    "        data.append([X[i],Y[i]])\n",
    "        \n",
    "    mu_m, sigma_m, mu_b, sigma_b = error(X, Y, data)\n",
    "    \n",
    "    return mu_m, sigma_m, mu_b, sigma_b\n"
   ]
  },
  {
   "cell_type": "markdown",
   "id": "b91b2cdc",
   "metadata": {},
   "source": [
    "## Gráfica 01 ($V \\text{ vs } I^2 $ para n = cte):"
   ]
  },
  {
   "cell_type": "code",
   "execution_count": 6,
   "id": "b75fa26c",
   "metadata": {},
   "outputs": [],
   "source": [
    "#V vs I^2:\n",
    "def Graf01(info_1 = info_1):\n",
    "    fig = plt.figure(figsize=(6,6))\n",
    "    ax = fig.add_subplot(1,1,1)\n",
    "    \n",
    "    M_s, incM_s = [], []\n",
    "\n",
    "    for i in range(len(info_1)):\n",
    "        X, Y = np.array(info_1[i]['V']), np.array(info_1[i]['I^2'])\n",
    "\n",
    "        mu_m, sigma_m, mu_b, sigma_b = GetAll(X, Y)\n",
    "\n",
    "        f = np.poly1d(np.array([mu_m, mu_b]))\n",
    "\n",
    "        ax.scatter(X, Y, s = 10 )\n",
    "        ax.plot(X, f(X), label=f'(n = {i}) $I^2 ={mu_m:.5f} (V) + {mu_b:.3f}$')\n",
    "        \n",
    "        M_s.append(mu_m)\n",
    "        incM_s.append(sigma_m)\n",
    "        \n",
    "        print(f'Para n = {i}, inc_m = {sigma_m} - inc_b = {sigma_b}')\n",
    "\n",
    "    # Grafica\n",
    "\n",
    "    plt.title('$V$ vs $I^2$', fontsize=15)\n",
    "    ax.set_xlabel(r'V (V)', fontsize=12)\n",
    "    ax.set_ylabel(r'$I^2 (A^2)$', fontsize=12)\n",
    "\n",
    "    ax.legend(loc='upper right')\n",
    "\n",
    "    fig.savefig('V_vs_I2.png', dpi=300, bbox_inches='tight')\n",
    "    \n",
    "    return M_s, incM_s"
   ]
  },
  {
   "cell_type": "code",
   "execution_count": 7,
   "id": "61be7b6f",
   "metadata": {},
   "outputs": [
    {
     "name": "stdout",
     "output_type": "stream",
     "text": [
      "Para n = 0, inc_m = 0.0001760130995097895 - inc_b = 0.06970903289351175\n",
      "Para n = 1, inc_m = 0.0003417435477050081 - inc_b = 0.15664844784468007\n",
      "Para n = 2, inc_m = 0.0011092510480465137 - inc_b = 0.4290251844317742\n"
     ]
    },
    {
     "data": {
      "image/png": "[encoded data removed]",
      "text/plain": [
       "<Figure size 432x432 with 1 Axes>"
      ]
     },
     "metadata": {
      "needs_background": "light"
     },
     "output_type": "display_data"
    }
   ],
   "source": [
    "# V vs I^2 para n = cte:\n",
    "M_sv_1, incM_s_1 = Graf01()"
   ]
  },
  {
   "cell_type": "code",
   "execution_count": 8,
   "id": "7875efbf",
   "metadata": {},
   "outputs": [
    {
     "data": {
      "text/plain": [
       "([0.004381736647538741, 0.013192106237650991, 0.029226916528828282],\n",
       " [0.0001760130995097895, 0.0003417435477050081, 0.0011092510480465137])"
      ]
     },
     "execution_count": 8,
     "metadata": {},
     "output_type": "execute_result"
    }
   ],
   "source": [
    "M_sv_1, incM_s_1"
   ]
  },
  {
   "cell_type": "markdown",
   "id": "497e6be0",
   "metadata": {},
   "source": [
    "## Gráfica 02 ($n^2 \\text{ vs } I^2 $ para v = cte):"
   ]
  },
  {
   "cell_type": "code",
   "execution_count": 9,
   "id": "898f4703",
   "metadata": {},
   "outputs": [],
   "source": [
    "# n^2 vs I^2:\n",
    "def Graf02(info = info_2):\n",
    "    fig = plt.figure(figsize=(6,6))\n",
    "    ax = fig.add_subplot(1,1,1)\n",
    "    \n",
    "    j = 300\n",
    "    M_s, incM_s = [], []\n",
    "\n",
    "\n",
    "    for i in range(len(info)):\n",
    "        X, Y = np.array(info[i]['n2']), np.array(info[i]['I^2'])\n",
    "\n",
    "        mu_m, sigma_m, mu_b, sigma_b = GetAll(X, Y)\n",
    "\n",
    "        f = np.poly1d(np.array([mu_m, mu_b]))\n",
    "\n",
    "        ax.scatter(X, Y, s = 10 )\n",
    "        ax.plot(X, f(X) , label=f'(V = {j}) $I^2 ={mu_m:.2f} (n^2) + {mu_b:.2f}$')\n",
    "        \n",
    "        M_s.append(mu_m)\n",
    "        incM_s.append(sigma_m)\n",
    "        \n",
    "        print(f'Para V = {j}, inc_m = {round(sigma_m,3)} - inc_b = {round(sigma_b,3)}')\n",
    "        \n",
    "        j += 50\n",
    "        \n",
    "\n",
    "    # Grafica\n",
    "\n",
    "    plt.title('$n^2$ vs $I^2$', fontsize=15)\n",
    "    ax.set_xlabel(r'$n^2$', fontsize=12)\n",
    "    ax.set_ylabel(r'$I^2 (A^2)$', fontsize=12)\n",
    "\n",
    "    ax.legend(loc='lower right')\n",
    "\n",
    "    fig.savefig('I_vs_n.png', dpi=300, bbox_inches='tight')\n",
    "    \n",
    "    return M_s, incM_s"
   ]
  },
  {
   "cell_type": "code",
   "execution_count": 10,
   "id": "2dd44832",
   "metadata": {},
   "outputs": [
    {
     "name": "stdout",
     "output_type": "stream",
     "text": [
      "Para V = 300, inc_m = 0.063 - inc_b = 0.156\n",
      "Para V = 350, inc_m = 0.079 - inc_b = 0.206\n",
      "Para V = 400, inc_m = 0.067 - inc_b = 0.2\n",
      "Para V = 450, inc_m = 0.107 - inc_b = 0.226\n",
      "Para V = 500, inc_m = 0.137 - inc_b = 0.172\n",
      "Para V = 550, inc_m = 0.116 - inc_b = 0.138\n",
      "Para V = 600, inc_m = 0.2 - inc_b = 0.332\n"
     ]
    },
    {
     "data": {
      "image/png": "[encoded data removed]",
      "text/plain": [
       "<Figure size 432x432 with 1 Axes>"
      ]
     },
     "metadata": {
      "needs_background": "light"
     },
     "output_type": "display_data"
    }
   ],
   "source": [
    "#n^2 vs I^2 para v = cte:\n",
    "M_sv_2, incM_s_2 = Graf02()"
   ]
  },
  {
   "cell_type": "code",
   "execution_count": 11,
   "id": "3b96abc7",
   "metadata": {},
   "outputs": [
    {
     "data": {
      "text/plain": [
       "([0.8371300339891348,\n",
       "  0.9896793784338499,\n",
       "  1.15807453206283,\n",
       "  1.4831991420539261,\n",
       "  1.6352337064168292,\n",
       "  1.8048709810207528,\n",
       "  1.9454371567443505],\n",
       " [0.06321850263908754,\n",
       "  0.07901312223396162,\n",
       "  0.06662256027255783,\n",
       "  0.10733535116543343,\n",
       "  0.13684665969064153,\n",
       "  0.11645463584629188,\n",
       "  0.20023372961040323])"
      ]
     },
     "execution_count": 11,
     "metadata": {},
     "output_type": "execute_result"
    }
   ],
   "source": [
    "M_sv_2, incM_s_2"
   ]
  },
  {
   "cell_type": "markdown",
   "id": "4556a7eb",
   "metadata": {},
   "source": [
    "### Calculamos e/m para cada conjunto de datos:"
   ]
  },
  {
   "cell_type": "code",
   "execution_count": 12,
   "id": "718fd0c3",
   "metadata": {},
   "outputs": [],
   "source": [
    "# V vs I^2 para n = cte:\n",
    "def e_m_1(m, inc_m, info = info_1):\n",
    "    \n",
    "    e_m_s, sig_e_m_s = [], []\n",
    "    \n",
    "    for n in range(len(info)):\n",
    "        \n",
    "        cte = info[n].n2\n",
    "        \n",
    "        info[n] = info[n].assign(M = m[n])\n",
    "        info[n] = info[n].assign(IncM = inc_m[n])\n",
    "        info[n] = info[n].assign(Z = 1424293168*cte)\n",
    "        \n",
    "        info[n] = info[n].assign(em = info[n].Z / info[n].M)\n",
    "        \n",
    "        mu_e_m, sig_mu_e_m = norm.fit(info[n].em)\n",
    "        \n",
    "        info[n] = info[n].assign(mu_em = mu_e_m)\n",
    "        \n",
    "        e_m_s.append(mu_e_m)\n",
    "        \n",
    "    mu_em = norm.fit(e_m_s)\n",
    "        \n",
    "    return mu_em"
   ]
  },
  {
   "cell_type": "code",
   "execution_count": 13,
   "id": "08e1ef69",
   "metadata": {},
   "outputs": [
    {
     "name": "stdout",
     "output_type": "stream",
     "text": [
      "(V vs I^2 para n = cte) e/m = 3.985015446e+11 pm 5.200910272e+10\n"
     ]
    }
   ],
   "source": [
    "mu_em_1, sigma_mu_em_1 = e_m_1(M_sv_1, incM_s_1, info_1)\n",
    "print(f'(V vs I^2 para n = cte) e/m = {mu_em_1:.9e} pm {sigma_mu_em_1:.9e}')"
   ]
  },
  {
   "cell_type": "code",
   "execution_count": 14,
   "id": "1f055c05",
   "metadata": {},
   "outputs": [],
   "source": [
    "# n vs I^2 para V = cte:\n",
    "def e_m_2(m, inc_m, info = info_1):\n",
    "    \n",
    "    e_m_s, sig_e_m_s = [], []\n",
    "    \n",
    "    for n in range(len(info)):\n",
    "        \n",
    "        cte = info[n].V\n",
    "        \n",
    "        info[n] = info[n].assign(M = m[n])\n",
    "        info[n] = info[n].assign(IncM = inc_m[n])\n",
    "        info[n] = info[n].assign(W = 1424293168*cte)\n",
    "        \n",
    "        info[n] = info[n].assign(em = info[n].W / info[n].M)\n",
    "        \n",
    "        mu_e_m, sig_mu_e_m = norm.fit(info[n].em)\n",
    "        \n",
    "        info[n] = info[n].assign(mu_em = mu_e_m)\n",
    "        \n",
    "        e_m_s.append(mu_e_m)\n",
    "        \n",
    "    mu_em = norm.fit(e_m_s)\n",
    "        \n",
    "    return mu_em"
   ]
  },
  {
   "cell_type": "code",
   "execution_count": 15,
   "id": "52c65d0f",
   "metadata": {},
   "outputs": [
    {
     "name": "stdout",
     "output_type": "stream",
     "text": [
      "(I^2 vs n^2 para V = cte) e/m = 4.638572641e+11 pm 3.348790982e+10\n"
     ]
    }
   ],
   "source": [
    "mu_em_2, sigma_mu_em_2 = e_m_2(M_sv_2, incM_s_2, info_2)\n",
    "print(f'(I^2 vs n^2 para V = cte) e/m = {mu_em_2:.9e} pm {sigma_mu_em_2:.9e}')"
   ]
  },
  {
   "cell_type": "markdown",
   "id": "b79a7b14",
   "metadata": {},
   "source": [
    "### Calculamos la media de los valores de e/m obtenidos en cada grafica:"
   ]
  },
  {
   "cell_type": "code",
   "execution_count": 16,
   "id": "2f297235",
   "metadata": {},
   "outputs": [
    {
     "name": "stdout",
     "output_type": "stream",
     "text": [
      "e/m final = 4.311794044e+11 pm 4.274850627e+10\n"
     ]
    }
   ],
   "source": [
    "em_final = np.mean([mu_em_1, mu_em_2])\n",
    "sigma_em_final = np.mean([sigma_mu_em_1, sigma_mu_em_2])\n",
    "\n",
    "print(f'e/m final = {em_final:.9e} pm {sigma_em_final:.9e}')"
   ]
  }
 ],
 "metadata": {
  "kernelspec": {
   "display_name": "Python 3",
   "language": "python",
   "name": "python3"
  },
  "language_info": {
   "codemirror_mode": {
    "name": "ipython",
    "version": 3
   },
   "file_extension": ".py",
   "mimetype": "text/x-python",
   "name": "python",
   "nbconvert_exporter": "python",
   "pygments_lexer": "ipython3",
   "version": "3.8.8"
  }
 },
 "nbformat": 4,
 "nbformat_minor": 5
}
